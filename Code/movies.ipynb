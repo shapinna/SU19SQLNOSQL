{
 "cells": [
  {
   "cell_type": "code",
   "execution_count": 10,
   "metadata": {},
   "outputs": [],
   "source": [
    "import pymongo\n",
    "import pandas as pd\n",
    "import pprint\n",
    "import re\n",
    "import matplotlib.pyplot as plt\n",
    "from pymongo import MongoClient\n",
    "import numpy as np"
   ]
  },
  {
   "cell_type": "code",
   "execution_count": 11,
   "metadata": {},
   "outputs": [],
   "source": [
    "client = MongoClient('localhost', 27017)"
   ]
  },
  {
   "cell_type": "code",
   "execution_count": 12,
   "metadata": {},
   "outputs": [],
   "source": [
    "db = client['movies']\n",
    "collection = db['tmdb_5000_movies']\n",
    "doc_iterator=collection.find()"
   ]
  },
  {
   "cell_type": "code",
   "execution_count": 13,
   "metadata": {},
   "outputs": [
    {
     "name": "stderr",
     "output_type": "stream",
     "text": [
      "C:\\Users\\jackm\\Anaconda3\\lib\\site-packages\\ipykernel_launcher.py:1: DeprecationWarning: count is deprecated. Use Collection.count_documents instead.\n",
      "  \"\"\"Entry point for launching an IPython kernel.\n"
     ]
    },
    {
     "data": {
      "text/plain": [
       "4803"
      ]
     },
     "execution_count": 13,
     "metadata": {},
     "output_type": "execute_result"
    }
   ],
   "source": [
    "doc_iterator.count()"
   ]
  },
  {
   "cell_type": "code",
   "execution_count": 14,
   "metadata": {},
   "outputs": [
    {
     "name": "stdout",
     "output_type": "stream",
     "text": [
      "{'_id': ObjectId('5d29e82c2f5bfacb0ea74ce5'),\n",
      " 'budget': 237000000,\n",
      " 'genres': '[{\"id\": 28, \"name\": \"Action\"}, {\"id\": 12, \"name\": \"Adventure\"}, '\n",
      "           '{\"id\": 14, \"name\": \"Fantasy\"}, {\"id\": 878, \"name\": \"Science '\n",
      "           'Fiction\"}]',\n",
      " 'homepage': 'http://www.avatarmovie.com/',\n",
      " 'id': 19995,\n",
      " 'keywords': '[{\"id\": 1463, \"name\": \"culture clash\"}, {\"id\": 2964, \"name\": '\n",
      "             '\"future\"}, {\"id\": 3386, \"name\": \"space war\"}, {\"id\": 3388, '\n",
      "             '\"name\": \"space colony\"}, {\"id\": 3679, \"name\": \"society\"}, {\"id\": '\n",
      "             '3801, \"name\": \"space travel\"}, {\"id\": 9685, \"name\": '\n",
      "             '\"futuristic\"}, {\"id\": 9840, \"name\": \"romance\"}, {\"id\": 9882, '\n",
      "             '\"name\": \"space\"}, {\"id\": 9951, \"name\": \"alien\"}, {\"id\": 10148, '\n",
      "             '\"name\": \"tribe\"}, {\"id\": 10158, \"name\": \"alien planet\"}, {\"id\": '\n",
      "             '10987, \"name\": \"cgi\"}, {\"id\": 11399, \"name\": \"marine\"}, {\"id\": '\n",
      "             '13065, \"name\": \"soldier\"}, {\"id\": 14643, \"name\": \"battle\"}, '\n",
      "             '{\"id\": 14720, \"name\": \"love affair\"}, {\"id\": 165431, \"name\": '\n",
      "             '\"anti war\"}, {\"id\": 193554, \"name\": \"power relations\"}, {\"id\": '\n",
      "             '206690, \"name\": \"mind and soul\"}, {\"id\": 209714, \"name\": \"3d\"}]',\n",
      " 'original_language': 'en',\n",
      " 'original_title': 'Avatar',\n",
      " 'overview': 'In the 22nd century, a paraplegic Marine is dispatched to the '\n",
      "             'moon Pandora on a unique mission, but becomes torn between '\n",
      "             'following orders and protecting an alien civilization.',\n",
      " 'popularity': 150.437577,\n",
      " 'production_companies': '[{\"name\": \"Ingenious Film Partners\", \"id\": 289}, '\n",
      "                         '{\"name\": \"Twentieth Century Fox Film Corporation\", '\n",
      "                         '\"id\": 306}, {\"name\": \"Dune Entertainment\", \"id\": '\n",
      "                         '444}, {\"name\": \"Lightstorm Entertainment\", \"id\": '\n",
      "                         '574}]',\n",
      " 'production_countries': '[{\"iso_3166_1\": \"US\", \"name\": \"United States of '\n",
      "                         'America\"}, {\"iso_3166_1\": \"GB\", \"name\": \"United '\n",
      "                         'Kingdom\"}]',\n",
      " 'release_date': '2009-12-10',\n",
      " 'revenue': 2787965087,\n",
      " 'runtime': 162,\n",
      " 'spoken_languages': '[{\"iso_639_1\": \"en\", \"name\": \"English\"}, {\"iso_639_1\": '\n",
      "                     '\"es\", \"name\": \"Espa\\\\u00f1ol\"}]',\n",
      " 'status': 'Released',\n",
      " 'tagline': 'Enter the World of Pandora.',\n",
      " 'title': 'Avatar',\n",
      " 'vote_average': 7.2,\n",
      " 'vote_count': 11800}\n",
      "{'_id': ObjectId('5d29e82c2f5bfacb0ea74ce6'),\n",
      " 'budget': 300000000,\n",
      " 'genres': '[{\"id\": 12, \"name\": \"Adventure\"}, {\"id\": 14, \"name\": \"Fantasy\"}, '\n",
      "           '{\"id\": 28, \"name\": \"Action\"}]',\n",
      " 'homepage': 'http://disney.go.com/disneypictures/pirates/',\n",
      " 'id': 285,\n",
      " 'keywords': '[{\"id\": 270, \"name\": \"ocean\"}, {\"id\": 726, \"name\": \"drug '\n",
      "             'abuse\"}, {\"id\": 911, \"name\": \"exotic island\"}, {\"id\": 1319, '\n",
      "             '\"name\": \"east india trading company\"}, {\"id\": 2038, \"name\": '\n",
      "             '\"love of one\\'s life\"}, {\"id\": 2052, \"name\": \"traitor\"}, {\"id\": '\n",
      "             '2580, \"name\": \"shipwreck\"}, {\"id\": 2660, \"name\": \"strong '\n",
      "             'woman\"}, {\"id\": 3799, \"name\": \"ship\"}, {\"id\": 5740, \"name\": '\n",
      "             '\"alliance\"}, {\"id\": 5941, \"name\": \"calypso\"}, {\"id\": 6155, '\n",
      "             '\"name\": \"afterlife\"}, {\"id\": 6211, \"name\": \"fighter\"}, {\"id\": '\n",
      "             '12988, \"name\": \"pirate\"}, {\"id\": 157186, \"name\": '\n",
      "             '\"swashbuckler\"}, {\"id\": 179430, \"name\": \"aftercreditsstinger\"}]',\n",
      " 'original_language': 'en',\n",
      " 'original_title': \"Pirates of the Caribbean: At World's End\",\n",
      " 'overview': 'Captain Barbossa, long believed to be dead, has come back to '\n",
      "             'life and is headed to the edge of the Earth with Will Turner and '\n",
      "             'Elizabeth Swann. But nothing is quite as it seems.',\n",
      " 'popularity': 139.082615,\n",
      " 'production_companies': '[{\"name\": \"Walt Disney Pictures\", \"id\": 2}, {\"name\": '\n",
      "                         '\"Jerry Bruckheimer Films\", \"id\": 130}, {\"name\": '\n",
      "                         '\"Second Mate Productions\", \"id\": 19936}]',\n",
      " 'production_countries': '[{\"iso_3166_1\": \"US\", \"name\": \"United States of '\n",
      "                         'America\"}]',\n",
      " 'release_date': '2007-05-19',\n",
      " 'revenue': 961000000,\n",
      " 'runtime': 169,\n",
      " 'spoken_languages': '[{\"iso_639_1\": \"en\", \"name\": \"English\"}]',\n",
      " 'status': 'Released',\n",
      " 'tagline': 'At the end of the world, the adventure begins.',\n",
      " 'title': \"Pirates of the Caribbean: At World's End\",\n",
      " 'vote_average': 6.9,\n",
      " 'vote_count': 4500}\n"
     ]
    }
   ],
   "source": [
    "for doc in collection.find().limit(2):\n",
    "    pprint.pprint(doc)"
   ]
  },
  {
   "cell_type": "code",
   "execution_count": 15,
   "metadata": {},
   "outputs": [
    {
     "data": {
      "text/html": [
       "<div>\n",
       "<style scoped>\n",
       "    .dataframe tbody tr th:only-of-type {\n",
       "        vertical-align: middle;\n",
       "    }\n",
       "\n",
       "    .dataframe tbody tr th {\n",
       "        vertical-align: top;\n",
       "    }\n",
       "\n",
       "    .dataframe thead th {\n",
       "        text-align: right;\n",
       "    }\n",
       "</style>\n",
       "<table border=\"1\" class=\"dataframe\">\n",
       "  <thead>\n",
       "    <tr style=\"text-align: right;\">\n",
       "      <th></th>\n",
       "      <th>_id</th>\n",
       "      <th>budget</th>\n",
       "      <th>genres</th>\n",
       "      <th>homepage</th>\n",
       "      <th>id</th>\n",
       "      <th>keywords</th>\n",
       "      <th>original_language</th>\n",
       "      <th>original_title</th>\n",
       "      <th>overview</th>\n",
       "      <th>popularity</th>\n",
       "      <th>...</th>\n",
       "      <th>production_countries</th>\n",
       "      <th>release_date</th>\n",
       "      <th>revenue</th>\n",
       "      <th>runtime</th>\n",
       "      <th>spoken_languages</th>\n",
       "      <th>status</th>\n",
       "      <th>tagline</th>\n",
       "      <th>title</th>\n",
       "      <th>vote_average</th>\n",
       "      <th>vote_count</th>\n",
       "    </tr>\n",
       "  </thead>\n",
       "  <tbody>\n",
       "    <tr>\n",
       "      <th>0</th>\n",
       "      <td>5d29e82c2f5bfacb0ea74ce5</td>\n",
       "      <td>237000000</td>\n",
       "      <td>[{\"id\": 28, \"name\": \"Action\"}, {\"id\": 12, \"nam...</td>\n",
       "      <td>http://www.avatarmovie.com/</td>\n",
       "      <td>19995</td>\n",
       "      <td>[{\"id\": 1463, \"name\": \"culture clash\"}, {\"id\":...</td>\n",
       "      <td>en</td>\n",
       "      <td>Avatar</td>\n",
       "      <td>In the 22nd century, a paraplegic Marine is di...</td>\n",
       "      <td>150.437577</td>\n",
       "      <td>...</td>\n",
       "      <td>[{\"iso_3166_1\": \"US\", \"name\": \"United States o...</td>\n",
       "      <td>2009-12-10</td>\n",
       "      <td>2787965087</td>\n",
       "      <td>162</td>\n",
       "      <td>[{\"iso_639_1\": \"en\", \"name\": \"English\"}, {\"iso...</td>\n",
       "      <td>Released</td>\n",
       "      <td>Enter the World of Pandora.</td>\n",
       "      <td>Avatar</td>\n",
       "      <td>7.2</td>\n",
       "      <td>11800</td>\n",
       "    </tr>\n",
       "    <tr>\n",
       "      <th>1</th>\n",
       "      <td>5d29e82c2f5bfacb0ea74ce6</td>\n",
       "      <td>300000000</td>\n",
       "      <td>[{\"id\": 12, \"name\": \"Adventure\"}, {\"id\": 14, \"...</td>\n",
       "      <td>http://disney.go.com/disneypictures/pirates/</td>\n",
       "      <td>285</td>\n",
       "      <td>[{\"id\": 270, \"name\": \"ocean\"}, {\"id\": 726, \"na...</td>\n",
       "      <td>en</td>\n",
       "      <td>Pirates of the Caribbean: At World's End</td>\n",
       "      <td>Captain Barbossa, long believed to be dead, ha...</td>\n",
       "      <td>139.082615</td>\n",
       "      <td>...</td>\n",
       "      <td>[{\"iso_3166_1\": \"US\", \"name\": \"United States o...</td>\n",
       "      <td>2007-05-19</td>\n",
       "      <td>961000000</td>\n",
       "      <td>169</td>\n",
       "      <td>[{\"iso_639_1\": \"en\", \"name\": \"English\"}]</td>\n",
       "      <td>Released</td>\n",
       "      <td>At the end of the world, the adventure begins.</td>\n",
       "      <td>Pirates of the Caribbean: At World's End</td>\n",
       "      <td>6.9</td>\n",
       "      <td>4500</td>\n",
       "    </tr>\n",
       "    <tr>\n",
       "      <th>2</th>\n",
       "      <td>5d29e82c2f5bfacb0ea74ce7</td>\n",
       "      <td>250000000</td>\n",
       "      <td>[{\"id\": 28, \"name\": \"Action\"}, {\"id\": 80, \"nam...</td>\n",
       "      <td>http://www.thedarkknightrises.com/</td>\n",
       "      <td>49026</td>\n",
       "      <td>[{\"id\": 849, \"name\": \"dc comics\"}, {\"id\": 853,...</td>\n",
       "      <td>en</td>\n",
       "      <td>The Dark Knight Rises</td>\n",
       "      <td>Following the death of District Attorney Harve...</td>\n",
       "      <td>112.312950</td>\n",
       "      <td>...</td>\n",
       "      <td>[{\"iso_3166_1\": \"US\", \"name\": \"United States o...</td>\n",
       "      <td>2012-07-16</td>\n",
       "      <td>1084939099</td>\n",
       "      <td>165</td>\n",
       "      <td>[{\"iso_639_1\": \"en\", \"name\": \"English\"}]</td>\n",
       "      <td>Released</td>\n",
       "      <td>The Legend Ends</td>\n",
       "      <td>The Dark Knight Rises</td>\n",
       "      <td>7.6</td>\n",
       "      <td>9106</td>\n",
       "    </tr>\n",
       "    <tr>\n",
       "      <th>3</th>\n",
       "      <td>5d29e82c2f5bfacb0ea74ce8</td>\n",
       "      <td>245000000</td>\n",
       "      <td>[{\"id\": 28, \"name\": \"Action\"}, {\"id\": 12, \"nam...</td>\n",
       "      <td>http://www.sonypictures.com/movies/spectre/</td>\n",
       "      <td>206647</td>\n",
       "      <td>[{\"id\": 470, \"name\": \"spy\"}, {\"id\": 818, \"name...</td>\n",
       "      <td>en</td>\n",
       "      <td>Spectre</td>\n",
       "      <td>A cryptic message from Bond’s past sends him o...</td>\n",
       "      <td>107.376788</td>\n",
       "      <td>...</td>\n",
       "      <td>[{\"iso_3166_1\": \"GB\", \"name\": \"United Kingdom\"...</td>\n",
       "      <td>2015-10-26</td>\n",
       "      <td>880674609</td>\n",
       "      <td>148</td>\n",
       "      <td>[{\"iso_639_1\": \"fr\", \"name\": \"Fran\\u00e7ais\"},...</td>\n",
       "      <td>Released</td>\n",
       "      <td>A Plan No One Escapes</td>\n",
       "      <td>Spectre</td>\n",
       "      <td>6.3</td>\n",
       "      <td>4466</td>\n",
       "    </tr>\n",
       "    <tr>\n",
       "      <th>4</th>\n",
       "      <td>5d29e82c2f5bfacb0ea74ce9</td>\n",
       "      <td>260000000</td>\n",
       "      <td>[{\"id\": 28, \"name\": \"Action\"}, {\"id\": 12, \"nam...</td>\n",
       "      <td>http://movies.disney.com/john-carter</td>\n",
       "      <td>49529</td>\n",
       "      <td>[{\"id\": 818, \"name\": \"based on novel\"}, {\"id\":...</td>\n",
       "      <td>en</td>\n",
       "      <td>John Carter</td>\n",
       "      <td>John Carter is a war-weary, former military ca...</td>\n",
       "      <td>43.926995</td>\n",
       "      <td>...</td>\n",
       "      <td>[{\"iso_3166_1\": \"US\", \"name\": \"United States o...</td>\n",
       "      <td>2012-03-07</td>\n",
       "      <td>284139100</td>\n",
       "      <td>132</td>\n",
       "      <td>[{\"iso_639_1\": \"en\", \"name\": \"English\"}]</td>\n",
       "      <td>Released</td>\n",
       "      <td>Lost in our world, found in another.</td>\n",
       "      <td>John Carter</td>\n",
       "      <td>6.1</td>\n",
       "      <td>2124</td>\n",
       "    </tr>\n",
       "  </tbody>\n",
       "</table>\n",
       "<p>5 rows × 21 columns</p>\n",
       "</div>"
      ],
      "text/plain": [
       "                        _id     budget  \\\n",
       "0  5d29e82c2f5bfacb0ea74ce5  237000000   \n",
       "1  5d29e82c2f5bfacb0ea74ce6  300000000   \n",
       "2  5d29e82c2f5bfacb0ea74ce7  250000000   \n",
       "3  5d29e82c2f5bfacb0ea74ce8  245000000   \n",
       "4  5d29e82c2f5bfacb0ea74ce9  260000000   \n",
       "\n",
       "                                              genres  \\\n",
       "0  [{\"id\": 28, \"name\": \"Action\"}, {\"id\": 12, \"nam...   \n",
       "1  [{\"id\": 12, \"name\": \"Adventure\"}, {\"id\": 14, \"...   \n",
       "2  [{\"id\": 28, \"name\": \"Action\"}, {\"id\": 80, \"nam...   \n",
       "3  [{\"id\": 28, \"name\": \"Action\"}, {\"id\": 12, \"nam...   \n",
       "4  [{\"id\": 28, \"name\": \"Action\"}, {\"id\": 12, \"nam...   \n",
       "\n",
       "                                       homepage      id  \\\n",
       "0                   http://www.avatarmovie.com/   19995   \n",
       "1  http://disney.go.com/disneypictures/pirates/     285   \n",
       "2            http://www.thedarkknightrises.com/   49026   \n",
       "3   http://www.sonypictures.com/movies/spectre/  206647   \n",
       "4          http://movies.disney.com/john-carter   49529   \n",
       "\n",
       "                                            keywords original_language  \\\n",
       "0  [{\"id\": 1463, \"name\": \"culture clash\"}, {\"id\":...                en   \n",
       "1  [{\"id\": 270, \"name\": \"ocean\"}, {\"id\": 726, \"na...                en   \n",
       "2  [{\"id\": 849, \"name\": \"dc comics\"}, {\"id\": 853,...                en   \n",
       "3  [{\"id\": 470, \"name\": \"spy\"}, {\"id\": 818, \"name...                en   \n",
       "4  [{\"id\": 818, \"name\": \"based on novel\"}, {\"id\":...                en   \n",
       "\n",
       "                             original_title  \\\n",
       "0                                    Avatar   \n",
       "1  Pirates of the Caribbean: At World's End   \n",
       "2                     The Dark Knight Rises   \n",
       "3                                   Spectre   \n",
       "4                               John Carter   \n",
       "\n",
       "                                            overview  popularity     ...      \\\n",
       "0  In the 22nd century, a paraplegic Marine is di...  150.437577     ...       \n",
       "1  Captain Barbossa, long believed to be dead, ha...  139.082615     ...       \n",
       "2  Following the death of District Attorney Harve...  112.312950     ...       \n",
       "3  A cryptic message from Bond’s past sends him o...  107.376788     ...       \n",
       "4  John Carter is a war-weary, former military ca...   43.926995     ...       \n",
       "\n",
       "                                production_countries release_date     revenue  \\\n",
       "0  [{\"iso_3166_1\": \"US\", \"name\": \"United States o...   2009-12-10  2787965087   \n",
       "1  [{\"iso_3166_1\": \"US\", \"name\": \"United States o...   2007-05-19   961000000   \n",
       "2  [{\"iso_3166_1\": \"US\", \"name\": \"United States o...   2012-07-16  1084939099   \n",
       "3  [{\"iso_3166_1\": \"GB\", \"name\": \"United Kingdom\"...   2015-10-26   880674609   \n",
       "4  [{\"iso_3166_1\": \"US\", \"name\": \"United States o...   2012-03-07   284139100   \n",
       "\n",
       "   runtime                                   spoken_languages    status  \\\n",
       "0      162  [{\"iso_639_1\": \"en\", \"name\": \"English\"}, {\"iso...  Released   \n",
       "1      169           [{\"iso_639_1\": \"en\", \"name\": \"English\"}]  Released   \n",
       "2      165           [{\"iso_639_1\": \"en\", \"name\": \"English\"}]  Released   \n",
       "3      148  [{\"iso_639_1\": \"fr\", \"name\": \"Fran\\u00e7ais\"},...  Released   \n",
       "4      132           [{\"iso_639_1\": \"en\", \"name\": \"English\"}]  Released   \n",
       "\n",
       "                                          tagline  \\\n",
       "0                     Enter the World of Pandora.   \n",
       "1  At the end of the world, the adventure begins.   \n",
       "2                                 The Legend Ends   \n",
       "3                           A Plan No One Escapes   \n",
       "4            Lost in our world, found in another.   \n",
       "\n",
       "                                      title vote_average  vote_count  \n",
       "0                                    Avatar          7.2       11800  \n",
       "1  Pirates of the Caribbean: At World's End          6.9        4500  \n",
       "2                     The Dark Knight Rises          7.6        9106  \n",
       "3                                   Spectre          6.3        4466  \n",
       "4                               John Carter          6.1        2124  \n",
       "\n",
       "[5 rows x 21 columns]"
      ]
     },
     "execution_count": 15,
     "metadata": {},
     "output_type": "execute_result"
    }
   ],
   "source": [
    "db = client.movies\n",
    "collection = db.tmdb_5000_movies\n",
    "df = pd.DataFrame(list(collection.find()))\n",
    "df.head(5)"
   ]
  },
  {
   "cell_type": "code",
   "execution_count": 16,
   "metadata": {},
   "outputs": [
    {
     "data": {
      "text/plain": [
       "Text(0, 0.5, 'revenue')"
      ]
     },
     "execution_count": 16,
     "metadata": {},
     "output_type": "execute_result"
    },
    {
     "data": {
      "image/png": "[encoded data removed]",
      "text/plain": [
       "<Figure size 720x576 with 1 Axes>"
      ]
     },
     "metadata": {
      "needs_background": "light"
     },
     "output_type": "display_data"
    }
   ],
   "source": [
    "# Plotting scatterplot\n",
    "plt.figure(figsize=(10,8))\n",
    "plt.scatter(x=df.vote_average,y = df.revenue,c=\"red\")\n",
    "plt.scatter(x=df.vote_average,y = df.revenue,c=\"blue\")\n",
    "plt.xlabel(\"vote_average\")\n",
    "plt.ylabel(\"revenue\")"
   ]
  },
  {
   "cell_type": "code",
   "execution_count": 17,
   "metadata": {},
   "outputs": [
    {
     "data": {
      "image/png": "[encoded data removed]",
      "text/plain": [
       "<Figure size 720x576 with 1 Axes>"
      ]
     },
     "metadata": {
      "needs_background": "light"
     },
     "output_type": "display_data"
    }
   ],
   "source": [
    "x = np.array(df.vote_average)\n",
    "y = np.array(df.revenue)\n",
    "# Deriving slope,intercept values\n",
    "slope, intercept = np.polyfit(x, y, 1)\n",
    "abline_values = [slope * i + intercept for i in x]\n",
    "#Plotting the figure\n",
    "plt.figure(figsize=(10,8))\n",
    "plt.scatter(x, y)\n",
    "plt.plot(x, abline_values, 'b')\n",
    "plt.title(\"Slope = %s\" % (slope))\n",
    "plt.xlabel(\"Rating\")\n",
    "plt.ylabel(\"Revenue\")\n",
    "plt.show()"
   ]
  },
  {
   "cell_type": "code",
   "execution_count": 18,
   "metadata": {},
   "outputs": [
    {
     "name": "stdout",
     "output_type": "stream",
     "text": [
      "[[1.         0.19714967]\n",
      " [0.19714967 1.        ]]\n"
     ]
    }
   ],
   "source": [
    "print(np.corrcoef(x,y))\n"
   ]
  },
  {
   "cell_type": "code",
   "execution_count": null,
   "metadata": {},
   "outputs": [],
   "source": []
  },
  {
   "cell_type": "code",
   "execution_count": null,
   "metadata": {},
   "outputs": [],
   "source": []
  }
 ],
 "metadata": {
  "kernelspec": {
   "display_name": "Python 3",
   "language": "python",
   "name": "python3"
  },
  "language_info": {
   "codemirror_mode": {
    "name": "ipython",
    "version": 3
   },
   "file_extension": ".py",
   "mimetype": "text/x-python",
   "name": "python",
   "nbconvert_exporter": "python",
   "pygments_lexer": "ipython3",
   "version": "3.7.1"
  }
 },
 "nbformat": 4,
 "nbformat_minor": 2
}
