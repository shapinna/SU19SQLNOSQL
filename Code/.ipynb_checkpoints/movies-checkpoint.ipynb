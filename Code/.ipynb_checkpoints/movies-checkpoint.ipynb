{
 "cells": [
  {
   "cell_type": "code",
   "execution_count": 27,
   "metadata": {
    "collapsed": true
   },
   "outputs": [],
   "source": [
    "import pymongo\n",
    "import pandas as pd\n",
    "import pprint\n",
    "import re\n",
    "import matplotlib.pyplot as plt\n",
    "from pymongo import MongoClient\n",
    "import numpy as np\n",
    "import math"
   ]
  },
  {
   "cell_type": "code",
   "execution_count": 2,
   "metadata": {
    "collapsed": true
   },
   "outputs": [],
   "source": [
    "client = MongoClient('localhost', 27017)"
   ]
  },
  {
   "cell_type": "code",
   "execution_count": 3,
   "metadata": {
    "collapsed": true
   },
   "outputs": [],
   "source": [
    "db = client['movies']\n",
    "collection = db['tmdb_5000_movies']\n",
    "doc_iterator=collection.find()"
   ]
  },
  {
   "cell_type": "code",
   "execution_count": 4,
   "metadata": {
    "collapsed": false
   },
   "outputs": [
    {
     "name": "stderr",
     "output_type": "stream",
     "text": [
      "C:\\Users\\Amirtha\\Anaconda3\\lib\\site-packages\\ipykernel\\__main__.py:1: DeprecationWarning: count is deprecated. Use Collection.count_documents instead.\n",
      "  if __name__ == '__main__':\n"
     ]
    },
    {
     "data": {
      "text/plain": [
       "4803"
      ]
     },
     "execution_count": 4,
     "metadata": {},
     "output_type": "execute_result"
    }
   ],
   "source": [
    "doc_iterator.count()"
   ]
  },
  {
   "cell_type": "code",
   "execution_count": 5,
   "metadata": {
    "collapsed": false
   },
   "outputs": [
    {
     "name": "stdout",
     "output_type": "stream",
     "text": [
      "{'_id': ObjectId('5d2fd067d030aa0676b2cec7'),\n",
      " 'budget': 237000000,\n",
      " 'genres': '[{\"id\": 28, \"name\": \"Action\"}, {\"id\": 12, \"name\": \"Adventure\"}, '\n",
      "           '{\"id\": 14, \"name\": \"Fantasy\"}, {\"id\": 878, \"name\": \"Science '\n",
      "           'Fiction\"}]',\n",
      " 'homepage': 'http://www.avatarmovie.com/',\n",
      " 'id': 19995,\n",
      " 'keywords': '[{\"id\": 1463, \"name\": \"culture clash\"}, {\"id\": 2964, \"name\": '\n",
      "             '\"future\"}, {\"id\": 3386, \"name\": \"space war\"}, {\"id\": 3388, '\n",
      "             '\"name\": \"space colony\"}, {\"id\": 3679, \"name\": \"society\"}, {\"id\": '\n",
      "             '3801, \"name\": \"space travel\"}, {\"id\": 9685, \"name\": '\n",
      "             '\"futuristic\"}, {\"id\": 9840, \"name\": \"romance\"}, {\"id\": 9882, '\n",
      "             '\"name\": \"space\"}, {\"id\": 9951, \"name\": \"alien\"}, {\"id\": 10148, '\n",
      "             '\"name\": \"tribe\"}, {\"id\": 10158, \"name\": \"alien planet\"}, {\"id\": '\n",
      "             '10987, \"name\": \"cgi\"}, {\"id\": 11399, \"name\": \"marine\"}, {\"id\": '\n",
      "             '13065, \"name\": \"soldier\"}, {\"id\": 14643, \"name\": \"battle\"}, '\n",
      "             '{\"id\": 14720, \"name\": \"love affair\"}, {\"id\": 165431, \"name\": '\n",
      "             '\"anti war\"}, {\"id\": 193554, \"name\": \"power relations\"}, {\"id\": '\n",
      "             '206690, \"name\": \"mind and soul\"}, {\"id\": 209714, \"name\": \"3d\"}]',\n",
      " 'original_language': 'en',\n",
      " 'original_title': 'Avatar',\n",
      " 'overview': 'In the 22nd century, a paraplegic Marine is dispatched to the '\n",
      "             'moon Pandora on a unique mission, but becomes torn between '\n",
      "             'following orders and protecting an alien civilization.',\n",
      " 'popularity': 150.437577,\n",
      " 'production_companies': '[{\"name\": \"Ingenious Film Partners\", \"id\": 289}, '\n",
      "                         '{\"name\": \"Twentieth Century Fox Film Corporation\", '\n",
      "                         '\"id\": 306}, {\"name\": \"Dune Entertainment\", \"id\": '\n",
      "                         '444}, {\"name\": \"Lightstorm Entertainment\", \"id\": '\n",
      "                         '574}]',\n",
      " 'production_countries': '[{\"iso_3166_1\": \"US\", \"name\": \"United States of '\n",
      "                         'America\"}, {\"iso_3166_1\": \"GB\", \"name\": \"United '\n",
      "                         'Kingdom\"}]',\n",
      " 'release_date': '2009-12-10',\n",
      " 'revenue': 2787965087,\n",
      " 'runtime': 162,\n",
      " 'spoken_languages': '[{\"iso_639_1\": \"en\", \"name\": \"English\"}, {\"iso_639_1\": '\n",
      "                     '\"es\", \"name\": \"Espa\\\\u00f1ol\"}]',\n",
      " 'status': 'Released',\n",
      " 'tagline': 'Enter the World of Pandora.',\n",
      " 'title': 'Avatar',\n",
      " 'vote_average': 7.2,\n",
      " 'vote_count': 11800}\n",
      "{'_id': ObjectId('5d2fd067d030aa0676b2cec8'),\n",
      " 'budget': 300000000,\n",
      " 'genres': '[{\"id\": 12, \"name\": \"Adventure\"}, {\"id\": 14, \"name\": \"Fantasy\"}, '\n",
      "           '{\"id\": 28, \"name\": \"Action\"}]',\n",
      " 'homepage': 'http://disney.go.com/disneypictures/pirates/',\n",
      " 'id': 285,\n",
      " 'keywords': '[{\"id\": 270, \"name\": \"ocean\"}, {\"id\": 726, \"name\": \"drug '\n",
      "             'abuse\"}, {\"id\": 911, \"name\": \"exotic island\"}, {\"id\": 1319, '\n",
      "             '\"name\": \"east india trading company\"}, {\"id\": 2038, \"name\": '\n",
      "             '\"love of one\\'s life\"}, {\"id\": 2052, \"name\": \"traitor\"}, {\"id\": '\n",
      "             '2580, \"name\": \"shipwreck\"}, {\"id\": 2660, \"name\": \"strong '\n",
      "             'woman\"}, {\"id\": 3799, \"name\": \"ship\"}, {\"id\": 5740, \"name\": '\n",
      "             '\"alliance\"}, {\"id\": 5941, \"name\": \"calypso\"}, {\"id\": 6155, '\n",
      "             '\"name\": \"afterlife\"}, {\"id\": 6211, \"name\": \"fighter\"}, {\"id\": '\n",
      "             '12988, \"name\": \"pirate\"}, {\"id\": 157186, \"name\": '\n",
      "             '\"swashbuckler\"}, {\"id\": 179430, \"name\": \"aftercreditsstinger\"}]',\n",
      " 'original_language': 'en',\n",
      " 'original_title': \"Pirates of the Caribbean: At World's End\",\n",
      " 'overview': 'Captain Barbossa, long believed to be dead, has come back to '\n",
      "             'life and is headed to the edge of the Earth with Will Turner and '\n",
      "             'Elizabeth Swann. But nothing is quite as it seems.',\n",
      " 'popularity': 139.082615,\n",
      " 'production_companies': '[{\"name\": \"Walt Disney Pictures\", \"id\": 2}, {\"name\": '\n",
      "                         '\"Jerry Bruckheimer Films\", \"id\": 130}, {\"name\": '\n",
      "                         '\"Second Mate Productions\", \"id\": 19936}]',\n",
      " 'production_countries': '[{\"iso_3166_1\": \"US\", \"name\": \"United States of '\n",
      "                         'America\"}]',\n",
      " 'release_date': '2007-05-19',\n",
      " 'revenue': 961000000,\n",
      " 'runtime': 169,\n",
      " 'spoken_languages': '[{\"iso_639_1\": \"en\", \"name\": \"English\"}]',\n",
      " 'status': 'Released',\n",
      " 'tagline': 'At the end of the world, the adventure begins.',\n",
      " 'title': \"Pirates of the Caribbean: At World's End\",\n",
      " 'vote_average': 6.9,\n",
      " 'vote_count': 4500}\n"
     ]
    }
   ],
   "source": [
    "for doc in collection.find().limit(2):\n",
    "    pprint.pprint(doc)"
   ]
  },
  {
   "cell_type": "markdown",
   "metadata": {},
   "source": [
    "### Exploratory data analysis"
   ]
  },
  {
   "cell_type": "code",
   "execution_count": 22,
   "metadata": {
    "collapsed": false
   },
   "outputs": [
    {
     "data": {
      "text/html": [
       "<div>\n",
       "<style>\n",
       "    .dataframe thead tr:only-child th {\n",
       "        text-align: right;\n",
       "    }\n",
       "\n",
       "    .dataframe thead th {\n",
       "        text-align: left;\n",
       "    }\n",
       "\n",
       "    .dataframe tbody tr th {\n",
       "        vertical-align: top;\n",
       "    }\n",
       "</style>\n",
       "<table border=\"1\" class=\"dataframe\">\n",
       "  <thead>\n",
       "    <tr style=\"text-align: right;\">\n",
       "      <th></th>\n",
       "      <th>_id</th>\n",
       "      <th>budget</th>\n",
       "      <th>genres</th>\n",
       "      <th>homepage</th>\n",
       "      <th>id</th>\n",
       "      <th>keywords</th>\n",
       "      <th>original_language</th>\n",
       "      <th>original_title</th>\n",
       "      <th>overview</th>\n",
       "      <th>popularity</th>\n",
       "      <th>...</th>\n",
       "      <th>production_countries</th>\n",
       "      <th>release_date</th>\n",
       "      <th>revenue</th>\n",
       "      <th>runtime</th>\n",
       "      <th>spoken_languages</th>\n",
       "      <th>status</th>\n",
       "      <th>tagline</th>\n",
       "      <th>title</th>\n",
       "      <th>vote_average</th>\n",
       "      <th>vote_count</th>\n",
       "    </tr>\n",
       "  </thead>\n",
       "  <tbody>\n",
       "    <tr>\n",
       "      <th>0</th>\n",
       "      <td>5d2fd067d030aa0676b2cec7</td>\n",
       "      <td>237000000</td>\n",
       "      <td>[{\"id\": 28, \"name\": \"Action\"}, {\"id\": 12, \"nam...</td>\n",
       "      <td>http://www.avatarmovie.com/</td>\n",
       "      <td>19995</td>\n",
       "      <td>[{\"id\": 1463, \"name\": \"culture clash\"}, {\"id\":...</td>\n",
       "      <td>en</td>\n",
       "      <td>Avatar</td>\n",
       "      <td>In the 22nd century, a paraplegic Marine is di...</td>\n",
       "      <td>150.437577</td>\n",
       "      <td>...</td>\n",
       "      <td>[{\"iso_3166_1\": \"US\", \"name\": \"United States o...</td>\n",
       "      <td>2009-12-10</td>\n",
       "      <td>2787965087</td>\n",
       "      <td>162</td>\n",
       "      <td>[{\"iso_639_1\": \"en\", \"name\": \"English\"}, {\"iso...</td>\n",
       "      <td>Released</td>\n",
       "      <td>Enter the World of Pandora.</td>\n",
       "      <td>Avatar</td>\n",
       "      <td>7.2</td>\n",
       "      <td>11800</td>\n",
       "    </tr>\n",
       "    <tr>\n",
       "      <th>1</th>\n",
       "      <td>5d2fd067d030aa0676b2cec8</td>\n",
       "      <td>300000000</td>\n",
       "      <td>[{\"id\": 12, \"name\": \"Adventure\"}, {\"id\": 14, \"...</td>\n",
       "      <td>http://disney.go.com/disneypictures/pirates/</td>\n",
       "      <td>285</td>\n",
       "      <td>[{\"id\": 270, \"name\": \"ocean\"}, {\"id\": 726, \"na...</td>\n",
       "      <td>en</td>\n",
       "      <td>Pirates of the Caribbean: At World's End</td>\n",
       "      <td>Captain Barbossa, long believed to be dead, ha...</td>\n",
       "      <td>139.082615</td>\n",
       "      <td>...</td>\n",
       "      <td>[{\"iso_3166_1\": \"US\", \"name\": \"United States o...</td>\n",
       "      <td>2007-05-19</td>\n",
       "      <td>961000000</td>\n",
       "      <td>169</td>\n",
       "      <td>[{\"iso_639_1\": \"en\", \"name\": \"English\"}]</td>\n",
       "      <td>Released</td>\n",
       "      <td>At the end of the world, the adventure begins.</td>\n",
       "      <td>Pirates of the Caribbean: At World's End</td>\n",
       "      <td>6.9</td>\n",
       "      <td>4500</td>\n",
       "    </tr>\n",
       "    <tr>\n",
       "      <th>2</th>\n",
       "      <td>5d2fd067d030aa0676b2cec9</td>\n",
       "      <td>245000000</td>\n",
       "      <td>[{\"id\": 28, \"name\": \"Action\"}, {\"id\": 12, \"nam...</td>\n",
       "      <td>http://www.sonypictures.com/movies/spectre/</td>\n",
       "      <td>206647</td>\n",
       "      <td>[{\"id\": 470, \"name\": \"spy\"}, {\"id\": 818, \"name...</td>\n",
       "      <td>en</td>\n",
       "      <td>Spectre</td>\n",
       "      <td>A cryptic message from Bond’s past sends him o...</td>\n",
       "      <td>107.376788</td>\n",
       "      <td>...</td>\n",
       "      <td>[{\"iso_3166_1\": \"GB\", \"name\": \"United Kingdom\"...</td>\n",
       "      <td>2015-10-26</td>\n",
       "      <td>880674609</td>\n",
       "      <td>148</td>\n",
       "      <td>[{\"iso_639_1\": \"fr\", \"name\": \"Fran\\u00e7ais\"},...</td>\n",
       "      <td>Released</td>\n",
       "      <td>A Plan No One Escapes</td>\n",
       "      <td>Spectre</td>\n",
       "      <td>6.3</td>\n",
       "      <td>4466</td>\n",
       "    </tr>\n",
       "    <tr>\n",
       "      <th>3</th>\n",
       "      <td>5d2fd067d030aa0676b2ceca</td>\n",
       "      <td>250000000</td>\n",
       "      <td>[{\"id\": 28, \"name\": \"Action\"}, {\"id\": 80, \"nam...</td>\n",
       "      <td>http://www.thedarkknightrises.com/</td>\n",
       "      <td>49026</td>\n",
       "      <td>[{\"id\": 849, \"name\": \"dc comics\"}, {\"id\": 853,...</td>\n",
       "      <td>en</td>\n",
       "      <td>The Dark Knight Rises</td>\n",
       "      <td>Following the death of District Attorney Harve...</td>\n",
       "      <td>112.312950</td>\n",
       "      <td>...</td>\n",
       "      <td>[{\"iso_3166_1\": \"US\", \"name\": \"United States o...</td>\n",
       "      <td>2012-07-16</td>\n",
       "      <td>1084939099</td>\n",
       "      <td>165</td>\n",
       "      <td>[{\"iso_639_1\": \"en\", \"name\": \"English\"}]</td>\n",
       "      <td>Released</td>\n",
       "      <td>The Legend Ends</td>\n",
       "      <td>The Dark Knight Rises</td>\n",
       "      <td>7.6</td>\n",
       "      <td>9106</td>\n",
       "    </tr>\n",
       "    <tr>\n",
       "      <th>4</th>\n",
       "      <td>5d2fd067d030aa0676b2cecb</td>\n",
       "      <td>260000000</td>\n",
       "      <td>[{\"id\": 28, \"name\": \"Action\"}, {\"id\": 12, \"nam...</td>\n",
       "      <td>http://movies.disney.com/john-carter</td>\n",
       "      <td>49529</td>\n",
       "      <td>[{\"id\": 818, \"name\": \"based on novel\"}, {\"id\":...</td>\n",
       "      <td>en</td>\n",
       "      <td>John Carter</td>\n",
       "      <td>John Carter is a war-weary, former military ca...</td>\n",
       "      <td>43.926995</td>\n",
       "      <td>...</td>\n",
       "      <td>[{\"iso_3166_1\": \"US\", \"name\": \"United States o...</td>\n",
       "      <td>2012-03-07</td>\n",
       "      <td>284139100</td>\n",
       "      <td>132</td>\n",
       "      <td>[{\"iso_639_1\": \"en\", \"name\": \"English\"}]</td>\n",
       "      <td>Released</td>\n",
       "      <td>Lost in our world, found in another.</td>\n",
       "      <td>John Carter</td>\n",
       "      <td>6.1</td>\n",
       "      <td>2124</td>\n",
       "    </tr>\n",
       "  </tbody>\n",
       "</table>\n",
       "<p>5 rows × 21 columns</p>\n",
       "</div>"
      ],
      "text/plain": [
       "                        _id     budget  \\\n",
       "0  5d2fd067d030aa0676b2cec7  237000000   \n",
       "1  5d2fd067d030aa0676b2cec8  300000000   \n",
       "2  5d2fd067d030aa0676b2cec9  245000000   \n",
       "3  5d2fd067d030aa0676b2ceca  250000000   \n",
       "4  5d2fd067d030aa0676b2cecb  260000000   \n",
       "\n",
       "                                              genres  \\\n",
       "0  [{\"id\": 28, \"name\": \"Action\"}, {\"id\": 12, \"nam...   \n",
       "1  [{\"id\": 12, \"name\": \"Adventure\"}, {\"id\": 14, \"...   \n",
       "2  [{\"id\": 28, \"name\": \"Action\"}, {\"id\": 12, \"nam...   \n",
       "3  [{\"id\": 28, \"name\": \"Action\"}, {\"id\": 80, \"nam...   \n",
       "4  [{\"id\": 28, \"name\": \"Action\"}, {\"id\": 12, \"nam...   \n",
       "\n",
       "                                       homepage      id  \\\n",
       "0                   http://www.avatarmovie.com/   19995   \n",
       "1  http://disney.go.com/disneypictures/pirates/     285   \n",
       "2   http://www.sonypictures.com/movies/spectre/  206647   \n",
       "3            http://www.thedarkknightrises.com/   49026   \n",
       "4          http://movies.disney.com/john-carter   49529   \n",
       "\n",
       "                                            keywords original_language  \\\n",
       "0  [{\"id\": 1463, \"name\": \"culture clash\"}, {\"id\":...                en   \n",
       "1  [{\"id\": 270, \"name\": \"ocean\"}, {\"id\": 726, \"na...                en   \n",
       "2  [{\"id\": 470, \"name\": \"spy\"}, {\"id\": 818, \"name...                en   \n",
       "3  [{\"id\": 849, \"name\": \"dc comics\"}, {\"id\": 853,...                en   \n",
       "4  [{\"id\": 818, \"name\": \"based on novel\"}, {\"id\":...                en   \n",
       "\n",
       "                             original_title  \\\n",
       "0                                    Avatar   \n",
       "1  Pirates of the Caribbean: At World's End   \n",
       "2                                   Spectre   \n",
       "3                     The Dark Knight Rises   \n",
       "4                               John Carter   \n",
       "\n",
       "                                            overview  popularity     ...      \\\n",
       "0  In the 22nd century, a paraplegic Marine is di...  150.437577     ...       \n",
       "1  Captain Barbossa, long believed to be dead, ha...  139.082615     ...       \n",
       "2  A cryptic message from Bond’s past sends him o...  107.376788     ...       \n",
       "3  Following the death of District Attorney Harve...  112.312950     ...       \n",
       "4  John Carter is a war-weary, former military ca...   43.926995     ...       \n",
       "\n",
       "                                production_countries release_date     revenue  \\\n",
       "0  [{\"iso_3166_1\": \"US\", \"name\": \"United States o...   2009-12-10  2787965087   \n",
       "1  [{\"iso_3166_1\": \"US\", \"name\": \"United States o...   2007-05-19   961000000   \n",
       "2  [{\"iso_3166_1\": \"GB\", \"name\": \"United Kingdom\"...   2015-10-26   880674609   \n",
       "3  [{\"iso_3166_1\": \"US\", \"name\": \"United States o...   2012-07-16  1084939099   \n",
       "4  [{\"iso_3166_1\": \"US\", \"name\": \"United States o...   2012-03-07   284139100   \n",
       "\n",
       "   runtime                                   spoken_languages    status  \\\n",
       "0      162  [{\"iso_639_1\": \"en\", \"name\": \"English\"}, {\"iso...  Released   \n",
       "1      169           [{\"iso_639_1\": \"en\", \"name\": \"English\"}]  Released   \n",
       "2      148  [{\"iso_639_1\": \"fr\", \"name\": \"Fran\\u00e7ais\"},...  Released   \n",
       "3      165           [{\"iso_639_1\": \"en\", \"name\": \"English\"}]  Released   \n",
       "4      132           [{\"iso_639_1\": \"en\", \"name\": \"English\"}]  Released   \n",
       "\n",
       "                                          tagline  \\\n",
       "0                     Enter the World of Pandora.   \n",
       "1  At the end of the world, the adventure begins.   \n",
       "2                           A Plan No One Escapes   \n",
       "3                                 The Legend Ends   \n",
       "4            Lost in our world, found in another.   \n",
       "\n",
       "                                      title vote_average  vote_count  \n",
       "0                                    Avatar          7.2       11800  \n",
       "1  Pirates of the Caribbean: At World's End          6.9        4500  \n",
       "2                                   Spectre          6.3        4466  \n",
       "3                     The Dark Knight Rises          7.6        9106  \n",
       "4                               John Carter          6.1        2124  \n",
       "\n",
       "[5 rows x 21 columns]"
      ]
     },
     "execution_count": 22,
     "metadata": {},
     "output_type": "execute_result"
    }
   ],
   "source": [
    "db = client.movies\n",
    "collection = db.tmdb_5000_movies\n",
    "org_df = pd.DataFrame(list(collection.find()))\n",
    "df=org_df\n",
    "df.head(5)"
   ]
  },
  {
   "cell_type": "code",
   "execution_count": 33,
   "metadata": {
    "collapsed": false
   },
   "outputs": [],
   "source": [
    "label = []\n",
    "for i in df[\"vote_average\"]:\n",
    "    j=round(int(i),0)\n",
    "    label.append(j)\n",
    "    "
   ]
  },
  {
   "cell_type": "code",
   "execution_count": 36,
   "metadata": {
    "collapsed": false
   },
   "outputs": [],
   "source": [
    "df[\"label\"]= label"
   ]
  },
  {
   "cell_type": "code",
   "execution_count": 37,
   "metadata": {
    "collapsed": false
   },
   "outputs": [
    {
     "data": {
      "text/plain": [
       "_id                     False\n",
       "budget                  False\n",
       "genres                  False\n",
       "homepage                False\n",
       "id                      False\n",
       "keywords                False\n",
       "original_language       False\n",
       "original_title          False\n",
       "overview                False\n",
       "popularity              False\n",
       "production_companies    False\n",
       "production_countries    False\n",
       "release_date            False\n",
       "revenue                 False\n",
       "runtime                 False\n",
       "spoken_languages        False\n",
       "status                  False\n",
       "tagline                 False\n",
       "title                   False\n",
       "vote_average            False\n",
       "vote_count              False\n",
       "label                   False\n",
       "dtype: bool"
      ]
     },
     "execution_count": 37,
     "metadata": {},
     "output_type": "execute_result"
    }
   ],
   "source": [
    "df.isnull().any()"
   ]
  },
  {
   "cell_type": "code",
   "execution_count": 7,
   "metadata": {
    "collapsed": false
   },
   "outputs": [
    {
     "data": {
      "text/html": [
       "<div>\n",
       "<style>\n",
       "    .dataframe thead tr:only-child th {\n",
       "        text-align: right;\n",
       "    }\n",
       "\n",
       "    .dataframe thead th {\n",
       "        text-align: left;\n",
       "    }\n",
       "\n",
       "    .dataframe tbody tr th {\n",
       "        vertical-align: top;\n",
       "    }\n",
       "</style>\n",
       "<table border=\"1\" class=\"dataframe\">\n",
       "  <thead>\n",
       "    <tr style=\"text-align: right;\">\n",
       "      <th></th>\n",
       "      <th>budget</th>\n",
       "      <th>id</th>\n",
       "      <th>popularity</th>\n",
       "      <th>revenue</th>\n",
       "      <th>vote_average</th>\n",
       "      <th>vote_count</th>\n",
       "    </tr>\n",
       "  </thead>\n",
       "  <tbody>\n",
       "    <tr>\n",
       "      <th>count</th>\n",
       "      <td>4.803000e+03</td>\n",
       "      <td>4803.000000</td>\n",
       "      <td>4803.000000</td>\n",
       "      <td>4.803000e+03</td>\n",
       "      <td>4803.000000</td>\n",
       "      <td>4803.000000</td>\n",
       "    </tr>\n",
       "    <tr>\n",
       "      <th>mean</th>\n",
       "      <td>2.904504e+07</td>\n",
       "      <td>57165.484281</td>\n",
       "      <td>21.492301</td>\n",
       "      <td>8.226064e+07</td>\n",
       "      <td>6.092172</td>\n",
       "      <td>690.217989</td>\n",
       "    </tr>\n",
       "    <tr>\n",
       "      <th>std</th>\n",
       "      <td>4.072239e+07</td>\n",
       "      <td>88694.614033</td>\n",
       "      <td>31.816650</td>\n",
       "      <td>1.628571e+08</td>\n",
       "      <td>1.194612</td>\n",
       "      <td>1234.585891</td>\n",
       "    </tr>\n",
       "    <tr>\n",
       "      <th>min</th>\n",
       "      <td>0.000000e+00</td>\n",
       "      <td>5.000000</td>\n",
       "      <td>0.000000</td>\n",
       "      <td>0.000000e+00</td>\n",
       "      <td>0.000000</td>\n",
       "      <td>0.000000</td>\n",
       "    </tr>\n",
       "    <tr>\n",
       "      <th>25%</th>\n",
       "      <td>7.900000e+05</td>\n",
       "      <td>9014.500000</td>\n",
       "      <td>4.668070</td>\n",
       "      <td>0.000000e+00</td>\n",
       "      <td>5.600000</td>\n",
       "      <td>54.000000</td>\n",
       "    </tr>\n",
       "    <tr>\n",
       "      <th>50%</th>\n",
       "      <td>1.500000e+07</td>\n",
       "      <td>14629.000000</td>\n",
       "      <td>12.921594</td>\n",
       "      <td>1.917000e+07</td>\n",
       "      <td>6.200000</td>\n",
       "      <td>235.000000</td>\n",
       "    </tr>\n",
       "    <tr>\n",
       "      <th>75%</th>\n",
       "      <td>4.000000e+07</td>\n",
       "      <td>58610.500000</td>\n",
       "      <td>28.313505</td>\n",
       "      <td>9.291719e+07</td>\n",
       "      <td>6.800000</td>\n",
       "      <td>737.000000</td>\n",
       "    </tr>\n",
       "    <tr>\n",
       "      <th>max</th>\n",
       "      <td>3.800000e+08</td>\n",
       "      <td>459488.000000</td>\n",
       "      <td>875.581305</td>\n",
       "      <td>2.787965e+09</td>\n",
       "      <td>10.000000</td>\n",
       "      <td>13752.000000</td>\n",
       "    </tr>\n",
       "  </tbody>\n",
       "</table>\n",
       "</div>"
      ],
      "text/plain": [
       "             budget             id   popularity       revenue  vote_average  \\\n",
       "count  4.803000e+03    4803.000000  4803.000000  4.803000e+03   4803.000000   \n",
       "mean   2.904504e+07   57165.484281    21.492301  8.226064e+07      6.092172   \n",
       "std    4.072239e+07   88694.614033    31.816650  1.628571e+08      1.194612   \n",
       "min    0.000000e+00       5.000000     0.000000  0.000000e+00      0.000000   \n",
       "25%    7.900000e+05    9014.500000     4.668070  0.000000e+00      5.600000   \n",
       "50%    1.500000e+07   14629.000000    12.921594  1.917000e+07      6.200000   \n",
       "75%    4.000000e+07   58610.500000    28.313505  9.291719e+07      6.800000   \n",
       "max    3.800000e+08  459488.000000   875.581305  2.787965e+09     10.000000   \n",
       "\n",
       "         vote_count  \n",
       "count   4803.000000  \n",
       "mean     690.217989  \n",
       "std     1234.585891  \n",
       "min        0.000000  \n",
       "25%       54.000000  \n",
       "50%      235.000000  \n",
       "75%      737.000000  \n",
       "max    13752.000000  "
      ]
     },
     "execution_count": 7,
     "metadata": {},
     "output_type": "execute_result"
    }
   ],
   "source": [
    "df.describe()"
   ]
  },
  {
   "cell_type": "code",
   "execution_count": 42,
   "metadata": {
    "collapsed": false
   },
   "outputs": [
    {
     "data": {
      "text/plain": [
       "Index(['_id', 'budget', 'genres', 'homepage', 'id', 'keywords',\n",
       "       'original_language', 'original_title', 'overview', 'popularity',\n",
       "       'production_companies', 'production_countries', 'release_date',\n",
       "       'revenue', 'runtime', 'spoken_languages', 'status', 'tagline', 'title',\n",
       "       'vote_average', 'vote_count', 'label'],\n",
       "      dtype='object')"
      ]
     },
     "execution_count": 42,
     "metadata": {},
     "output_type": "execute_result"
    }
   ],
   "source": [
    "df.columns"
   ]
  },
  {
   "cell_type": "code",
   "execution_count": 46,
   "metadata": {
    "collapsed": false
   },
   "outputs": [
    {
     "data": {
      "text/plain": [
       "0       237000000\n",
       "1       300000000\n",
       "2       245000000\n",
       "3       250000000\n",
       "4       260000000\n",
       "5       258000000\n",
       "6       260000000\n",
       "7       280000000\n",
       "8       250000000\n",
       "9       250000000\n",
       "10      270000000\n",
       "11      200000000\n",
       "12      200000000\n",
       "13      255000000\n",
       "14      225000000\n",
       "15      225000000\n",
       "16      220000000\n",
       "17      380000000\n",
       "18      225000000\n",
       "19      250000000\n",
       "20      215000000\n",
       "21      200000000\n",
       "22      250000000\n",
       "23      180000000\n",
       "24      207000000\n",
       "25      200000000\n",
       "26      200000000\n",
       "27      200000000\n",
       "28      200000000\n",
       "29      200000000\n",
       "          ...    \n",
       "4773        27000\n",
       "4774        27000\n",
       "4775            0\n",
       "4776            0\n",
       "4777            0\n",
       "4778            0\n",
       "4779            0\n",
       "4780            0\n",
       "4781        22000\n",
       "4782            0\n",
       "4783            0\n",
       "4784            0\n",
       "4785            0\n",
       "4786            0\n",
       "4787            0\n",
       "4788        12000\n",
       "4789            0\n",
       "4790            0\n",
       "4791           13\n",
       "4792        20000\n",
       "4793            0\n",
       "4794            0\n",
       "4795            0\n",
       "4796         7000\n",
       "4797            0\n",
       "4798       220000\n",
       "4799         9000\n",
       "4800            0\n",
       "4801            0\n",
       "4802            0\n",
       "Name: budget, Length: 4803, dtype: int64"
      ]
     },
     "execution_count": 46,
     "metadata": {},
     "output_type": "execute_result"
    }
   ],
   "source": [
    "df.loc[:,'budget']"
   ]
  },
  {
   "cell_type": "code",
   "execution_count": 8,
   "metadata": {
    "collapsed": false
   },
   "outputs": [
    {
     "data": {
      "text/plain": [
       "Text(0,0.5,'revenue')"
      ]
     },
     "execution_count": 8,
     "metadata": {},
     "output_type": "execute_result"
    }
   ],
   "source": [
    "# Plotting scatterplot\n",
    "plt.figure(figsize=(10,8))\n",
    "plt.scatter(x=df.vote_average,y = df.revenue,c=\"red\")\n",
    "plt.scatter(x=df.vote_average,y = df.revenue,c=\"blue\")\n",
    "plt.xlabel(\"vote_average\")\n",
    "plt.ylabel(\"revenue\")"
   ]
  },
  {
   "cell_type": "code",
   "execution_count": 9,
   "metadata": {
    "collapsed": false
   },
   "outputs": [
    {
     "data": {
      "image/png": "[encoded data removed]",
      "text/plain": [
       "<Figure size 720x576 with 1 Axes>"
      ]
     },
     "metadata": {},
     "output_type": "display_data"
    },
    {
     "data": {
      "image/png": "[encoded data removed]",
      "text/plain": [
       "<Figure size 720x576 with 1 Axes>"
      ]
     },
     "metadata": {},
     "output_type": "display_data"
    }
   ],
   "source": [
    "x = np.array(df.vote_average)\n",
    "y = np.array(df.revenue)\n",
    "# Deriving slope,intercept values\n",
    "slope, intercept = np.polyfit(x, y, 1)\n",
    "abline_values = [slope * i + intercept for i in x]\n",
    "#Plotting the figure\n",
    "plt.figure(figsize=(10,8))\n",
    "plt.scatter(x, y)\n",
    "plt.plot(x, abline_values, 'b')\n",
    "plt.title(\"Slope = %s\" % (slope))\n",
    "plt.xlabel(\"Rating\")\n",
    "plt.ylabel(\"Revenue\")\n",
    "plt.show()"
   ]
  },
  {
   "cell_type": "code",
   "execution_count": 18,
   "metadata": {
    "collapsed": false
   },
   "outputs": [
    {
     "name": "stdout",
     "output_type": "stream",
     "text": [
      "[[1.         0.19714967]\n",
      " [0.19714967 1.        ]]\n"
     ]
    }
   ],
   "source": [
    "print(np.corrcoef(x,y))\n"
   ]
  },
  {
   "cell_type": "code",
   "execution_count": null,
   "metadata": {
    "collapsed": true
   },
   "outputs": [],
   "source": [
    "Linear regression\n",
    "Naive bayes\n",
    "KMeans clustering\n"
   ]
  },
  {
   "cell_type": "markdown",
   "metadata": {},
   "source": [
    "### Linear Regression"
   ]
  },
  {
   "cell_type": "code",
   "execution_count": 10,
   "metadata": {
    "collapsed": true
   },
   "outputs": [],
   "source": [
    "from sklearn import linear_model as lm "
   ]
  },
  {
   "cell_type": "code",
   "execution_count": 14,
   "metadata": {
    "collapsed": true
   },
   "outputs": [],
   "source": [
    "#creating linear object\n",
    "linear_reg = lm.LinearRegression()"
   ]
  },
  {
   "cell_type": "code",
   "execution_count": 15,
   "metadata": {
    "collapsed": true
   },
   "outputs": [],
   "source": [
    "indep_vars = df.loc[:,['budget','popularity']]\n",
    "\n",
    "dep_var = df[[\"revenue\"]]"
   ]
  },
  {
   "cell_type": "code",
   "execution_count": 16,
   "metadata": {
    "collapsed": false
   },
   "outputs": [
    {
     "data": {
      "text/plain": [
       "LinearRegression(copy_X=True, fit_intercept=True, n_jobs=1, normalize=False)"
      ]
     },
     "execution_count": 16,
     "metadata": {},
     "output_type": "execute_result"
    }
   ],
   "source": [
    "linear_reg.fit(indep_vars , dep_var)"
   ]
  },
  {
   "cell_type": "code",
   "execution_count": 17,
   "metadata": {
    "collapsed": false
   },
   "outputs": [
    {
     "name": "stdout",
     "output_type": "stream",
     "text": [
      "[[  2.17519964e+00   1.89298897e+06]] [-21602809.61039671]\n"
     ]
    }
   ],
   "source": [
    "print(linear_reg.coef_,linear_reg.intercept_)"
   ]
  },
  {
   "cell_type": "code",
   "execution_count": 19,
   "metadata": {
    "collapsed": false
   },
   "outputs": [
    {
     "name": "stdout",
     "output_type": "stream",
     "text": [
      "Revenue =  2.1752 * budget+  1892988.9692 * popularity  -21602809.6104\n"
     ]
    }
   ],
   "source": [
    "print(\"Revenue = \",round(linear_reg.coef_[0][0],4),\"* budget+ \",\n",
    "      round(linear_reg.coef_[0][1],4),\"* popularity \",\n",
    "      round(linear_reg.intercept_[0],4))"
   ]
  },
  {
   "cell_type": "markdown",
   "metadata": {},
   "source": [
    "### Naïve Bayes implementation"
   ]
  },
  {
   "cell_type": "code",
   "execution_count": 20,
   "metadata": {
    "collapsed": true
   },
   "outputs": [],
   "source": [
    "from sklearn.cross_validation import train_test_split\n",
    "from sklearn.naive_bayes import GaussianNB"
   ]
  },
  {
   "cell_type": "code",
   "execution_count": 52,
   "metadata": {
    "collapsed": false
   },
   "outputs": [],
   "source": [
    "dataTrain, dataTest, labelTrain, labelTest = train_test_split( df.loc[:,[\"budget\",\"popularity\",\"revenue\"]], df.loc[:,\"label\"], test_size=0.33, random_state=42)"
   ]
  },
  {
   "cell_type": "code",
   "execution_count": 53,
   "metadata": {
    "collapsed": true
   },
   "outputs": [],
   "source": [
    "naive_bayes = GaussianNB()"
   ]
  },
  {
   "cell_type": "code",
   "execution_count": 54,
   "metadata": {
    "collapsed": true
   },
   "outputs": [],
   "source": [
    "nb_model = naive_bayes.fit(dataTrain,labelTrain)"
   ]
  },
  {
   "cell_type": "code",
   "execution_count": 55,
   "metadata": {
    "collapsed": true
   },
   "outputs": [],
   "source": [
    "predict_test_label =  nb_model.predict(dataTest)"
   ]
  },
  {
   "cell_type": "code",
   "execution_count": 56,
   "metadata": {
    "collapsed": false
   },
   "outputs": [
    {
     "name": "stdout",
     "output_type": "stream",
     "text": [
      "Test Accuracy: 21.8296529968 %\n"
     ]
    }
   ],
   "source": [
    "print(\"Test Accuracy:\",100*sum(predict_test_label == labelTest)/len(predict_test_label),\"%\")"
   ]
  },
  {
   "cell_type": "markdown",
   "metadata": {},
   "source": [
    "#### Cross validation hold out method"
   ]
  },
  {
   "cell_type": "code",
   "execution_count": 60,
   "metadata": {
    "collapsed": false
   },
   "outputs": [],
   "source": [
    "r,c = df.shape"
   ]
  },
  {
   "cell_type": "code",
   "execution_count": 65,
   "metadata": {
    "collapsed": false
   },
   "outputs": [],
   "source": [
    "size =  math.floor(2*r/3)"
   ]
  },
  {
   "cell_type": "code",
   "execution_count": 66,
   "metadata": {
    "collapsed": false
   },
   "outputs": [],
   "source": [
    "df = df.sample(frac=1)"
   ]
  },
  {
   "cell_type": "code",
   "execution_count": 67,
   "metadata": {
    "collapsed": true
   },
   "outputs": [],
   "source": [
    "train_data = df.iloc[:size,:]\n",
    "test_data = df.iloc[size:,:]"
   ]
  },
  {
   "cell_type": "code",
   "execution_count": 69,
   "metadata": {
    "collapsed": true
   },
   "outputs": [],
   "source": [
    "train_features = train_data.loc[:,[\"budget\",\"popularity\",\"revenue\"]]\n",
    "train_label = train_data.loc[:,\"label\"]\n",
    "test_features = test_data.loc[:,[\"budget\",\"popularity\",\"revenue\"]]\n",
    "Test_label = test_data.loc[:,\"label\"]"
   ]
  },
  {
   "cell_type": "code",
   "execution_count": 70,
   "metadata": {
    "collapsed": true
   },
   "outputs": [],
   "source": [
    "model = naive_bayes.fit(train_features,train_label)"
   ]
  },
  {
   "cell_type": "code",
   "execution_count": 71,
   "metadata": {
    "collapsed": true
   },
   "outputs": [],
   "source": [
    "pred_test_label =  model.predict(test_features)"
   ]
  },
  {
   "cell_type": "code",
   "execution_count": 72,
   "metadata": {
    "collapsed": false
   },
   "outputs": [
    {
     "name": "stdout",
     "output_type": "stream",
     "text": [
      "Test Accuracy: 29.1068082448 %\n"
     ]
    }
   ],
   "source": [
    "print(\"Test Accuracy:\",100*sum(pred_test_label == Test_label)/len(pred_test_label),\"%\")"
   ]
  },
  {
   "cell_type": "markdown",
   "metadata": {},
   "source": [
    "### Random Forest"
   ]
  },
  {
   "cell_type": "code",
   "execution_count": null,
   "metadata": {
    "collapsed": true
   },
   "outputs": [],
   "source": []
  },
  {
   "cell_type": "code",
   "execution_count": null,
   "metadata": {
    "collapsed": true
   },
   "outputs": [],
   "source": []
  },
  {
   "cell_type": "code",
   "execution_count": null,
   "metadata": {
    "collapsed": true
   },
   "outputs": [],
   "source": []
  },
  {
   "cell_type": "markdown",
   "metadata": {},
   "source": [
    "#### Supervised learning"
   ]
  },
  {
   "cell_type": "code",
   "execution_count": 73,
   "metadata": {
    "collapsed": true
   },
   "outputs": [],
   "source": [
    "from sklearn.cluster import KMeans"
   ]
  },
  {
   "cell_type": "markdown",
   "metadata": {},
   "source": [
    "#### Elbow point method findng optimum no of clusters\n"
   ]
  },
  {
   "cell_type": "code",
   "execution_count": 74,
   "metadata": {
    "collapsed": false
   },
   "outputs": [
    {
     "data": {
      "image/png": "[encoded data removed]",
      "text/plain": [
       "<Figure size 432x288 with 1 Axes>"
      ]
     },
     "metadata": {},
     "output_type": "display_data"
    }
   ],
   "source": [
    "# make a range from 1 to 15\n",
    "ks = range(1, 15)\n",
    "inertias = [] # empty list\n",
    "\n",
    "# for loop to calucate Kmeans for each value\n",
    "for k in ks:\n",
    "    model =KMeans(n_clusters=k) \n",
    "    model.fit(df.loc[:,[\"budget\",\"popularity\",\"revenue\"]])    \n",
    "    # Append the inertia to the list of inertias\n",
    "    inertias.append(model.inertia_)\n",
    "\n",
    "# Plot Range vs Inertias\n",
    "plt.plot(ks, inertias, '-o',c=\"black\")\n",
    "plt.xlabel('number of clusters, k')\n",
    "plt.ylabel('Inertia')\n",
    "plt.title('Range vs Inertia')\n",
    "plt.xticks(ks)\n",
    "plt.show()"
   ]
  },
  {
   "cell_type": "code",
   "execution_count": null,
   "metadata": {
    "collapsed": true
   },
   "outputs": [],
   "source": []
  }
 ],
 "metadata": {
  "kernelspec": {
   "display_name": "Python [default]",
   "language": "python",
   "name": "python3"
  },
  "language_info": {
   "codemirror_mode": {
    "name": "ipython",
    "version": 3
   },
   "file_extension": ".py",
   "mimetype": "text/x-python",
   "name": "python",
   "nbconvert_exporter": "python",
   "pygments_lexer": "ipython3",
   "version": "3.5.6"
  }
 },
 "nbformat": 4,
 "nbformat_minor": 2
}
